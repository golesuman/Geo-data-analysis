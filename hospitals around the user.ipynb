{
 "cells": [
  {
   "cell_type": "code",
   "execution_count": 1,
   "id": "e7b5deb4",
   "metadata": {},
   "outputs": [],
   "source": [
    "import osmnx as ox\n",
    "import networkx as nx\n",
    "import pandas as pd\n",
    "pd.set_option('display.max_columns', None)\n"
   ]
  },
  {
   "cell_type": "code",
   "execution_count": 2,
   "id": "ad3b7915",
   "metadata": {},
   "outputs": [
    {
     "name": "stderr",
     "output_type": "stream",
     "text": [
      "/home/suman/anaconda3/lib/python3.9/site-packages/osmnx/utils.py:192: UserWarning: The `utils.config` function is deprecated and will be removed in a future release. Instead, use the `settings` module directly to configure a global setting's value. For example, `ox.settings.log_console=True`.\n",
      "  warnings.warn(\n"
     ]
    }
   ],
   "source": [
    "long = 27.7172\n",
    "lat = 85.3240\n",
    "ox.config(log_console=True, use_cache=True)\n",
    "\n",
    "tags = {'amenity': 'hospital',\n",
    "        'healthcare':'hospital',\n",
    "            'building': 'hospital',\n",
    "            'emergency': 'ambulance_station',\n",
    "#             'contact':'email',\n",
    "#             'facility': 'operating_theatre',\n",
    "#             'facility':'x-ray',\n",
    "        }\n",
    "gdf = ox.geometries.geometries_from_point((long,lat), tags, dist=5000).head(10)"
   ]
  },
  {
   "cell_type": "code",
   "execution_count": 3,
   "id": "7f7858a8",
   "metadata": {
    "scrolled": false
   },
   "outputs": [
    {
     "data": {
      "text/plain": [
       "geopandas.geodataframe.GeoDataFrame"
      ]
     },
     "execution_count": 3,
     "metadata": {},
     "output_type": "execute_result"
    }
   ],
   "source": [
    "type(gdf)"
   ]
  },
  {
   "cell_type": "code",
   "execution_count": 4,
   "id": "51c12bde",
   "metadata": {
    "scrolled": true
   },
   "outputs": [
    {
     "data": {
      "text/plain": [
       "(10, 107)"
      ]
     },
     "execution_count": 4,
     "metadata": {},
     "output_type": "execute_result"
    }
   ],
   "source": [
    "gdf.shape"
   ]
  },
  {
   "cell_type": "code",
   "execution_count": 5,
   "id": "5edabab7",
   "metadata": {
    "scrolled": true
   },
   "outputs": [
    {
     "name": "stdout",
     "output_type": "stream",
     "text": [
      "[nan '014412075' '977-1-4424111, 4435232']\n"
     ]
    }
   ],
   "source": [
    "print(gdf['phone'].unique())"
   ]
  },
  {
   "cell_type": "code",
   "execution_count": 6,
   "id": "3eea4db3",
   "metadata": {},
   "outputs": [
    {
     "name": "stdout",
     "output_type": "stream",
     "text": [
      "['amenity', 'name', 'website', 'geometry', 'source', 'emergency', 'toilets:wheelchair', 'wheelchair', 'addr:city', 'addr:street', 'operator', 'phone', 'religion', 'barrier', 'addr:country', 'addr:postcode', 'addr:state', 'contact:email', 'description', 'fax', 'healthcare', 'email', 'name:en', 'building_count', 'capacity:beds', 'facility:icu', 'facility:operating_theatre', 'facility:ventilator', 'facility:x-ray', 'opd:patients:count', 'operator:type', 'personnel:count', 'management_type', 'internet_access', 'opening_hours', 'addr:place', 'addr:housenumber', 'name:ko', 'healthcare:speciality', 'nodes', 'building', 'building:floor_type', 'building:level', 'building:roof_type', 'building:typology', 'building:use', 'building:adjacency', 'building:bay:x', 'building:bay:y', 'building:levels', 'building:overhang', 'building:ownership', 'building:soft_storey', 'building:structure', 'column:size', 'floor:material', 'physical_condition', 'retrofit', 'roof:material', 'roof:shape', 'seismic_resistance', 'shape:elevation', 'shape:plan', 'start_date', 'name:ne', 'occupant:day', 'occupant:evening', 'occupant:morning', 'occupant:night', 'oid', 'designation', 'short_name', 'facility:CCU', 'facility:ICU', 'facility:OT', 'toilets', 'building:age', 'building:condition', 'building:geological_site', 'building:lateral:material', 'building:lateral:system', 'building:levels:underground', 'capacity:persons', 'fixme', 'Household Code', 'Household Info By', 'HIV_Service', 'wikidata', 'addr:housename', 'building:gable_wall', 'floor:material:type', 'roof:material:type', 'service', 'beds', 'capacity:outpatients', 'dispensing', 'name:new', 'shop', 'aeroway', 'alt_name', 'contact:phone', 'area', 'ways', 'int_name', 'old_name', 'type', 'access']\n"
     ]
    }
   ],
   "source": [
    "columns = gdf.columns.tolist()\n",
    "print(columns)"
   ]
  },
  {
   "cell_type": "code",
   "execution_count": 7,
   "id": "40b09f6e",
   "metadata": {},
   "outputs": [
    {
     "data": {
      "text/plain": [
       "(10, 107)"
      ]
     },
     "execution_count": 7,
     "metadata": {},
     "output_type": "execute_result"
    }
   ],
   "source": [
    "gdf.shape"
   ]
  },
  {
   "cell_type": "code",
   "execution_count": 8,
   "id": "c36895d4",
   "metadata": {},
   "outputs": [
    {
     "data": {
      "text/plain": [
       "geopandas.geoseries.GeoSeries"
      ]
     },
     "execution_count": 8,
     "metadata": {},
     "output_type": "execute_result"
    }
   ],
   "source": [
    "type(gdf['geometry'])"
   ]
  },
  {
   "cell_type": "code",
   "execution_count": 9,
   "id": "1d480185",
   "metadata": {},
   "outputs": [
    {
     "data": {
      "text/plain": [
       "8"
      ]
     },
     "execution_count": 9,
     "metadata": {},
     "output_type": "execute_result"
    }
   ],
   "source": [
    "gdf['phone'].isna().sum()"
   ]
  },
  {
   "cell_type": "code",
   "execution_count": 10,
   "id": "fcc4e8a3",
   "metadata": {},
   "outputs": [],
   "source": [
    "# gdf.rename(columns = {'contact:phone':'phone'}, inplace = True)"
   ]
  },
  {
   "cell_type": "code",
   "execution_count": 11,
   "id": "aee8cfec",
   "metadata": {},
   "outputs": [],
   "source": [
    "gdf.fillna(0, inplace=True)"
   ]
  },
  {
   "cell_type": "code",
   "execution_count": 12,
   "id": "9b74c658",
   "metadata": {},
   "outputs": [
    {
     "name": "stdout",
     "output_type": "stream",
     "text": [
      "amenity\n",
      "name\n",
      "website\n",
      "geometry\n",
      "source\n",
      "emergency\n",
      "toilets:wheelchair\n",
      "wheelchair\n",
      "addr:city\n",
      "addr:street\n",
      "operator\n",
      "phone\n",
      "religion\n",
      "barrier\n",
      "addr:country\n",
      "addr:postcode\n",
      "addr:state\n",
      "contact:email\n",
      "description\n",
      "fax\n",
      "healthcare\n",
      "email\n",
      "name:en\n",
      "building_count\n",
      "capacity:beds\n",
      "facility:icu\n",
      "facility:operating_theatre\n",
      "facility:ventilator\n",
      "facility:x-ray\n",
      "opd:patients:count\n",
      "operator:type\n",
      "personnel:count\n",
      "management_type\n",
      "internet_access\n",
      "opening_hours\n",
      "addr:place\n",
      "addr:housenumber\n",
      "name:ko\n",
      "healthcare:speciality\n",
      "nodes\n",
      "building\n",
      "building:floor_type\n",
      "building:level\n",
      "building:roof_type\n",
      "building:typology\n",
      "building:use\n",
      "building:adjacency\n",
      "building:bay:x\n",
      "building:bay:y\n",
      "building:levels\n",
      "building:overhang\n",
      "building:ownership\n",
      "building:soft_storey\n",
      "building:structure\n",
      "column:size\n",
      "floor:material\n",
      "physical_condition\n",
      "retrofit\n",
      "roof:material\n",
      "roof:shape\n",
      "seismic_resistance\n",
      "shape:elevation\n",
      "shape:plan\n",
      "start_date\n",
      "name:ne\n",
      "occupant:day\n",
      "occupant:evening\n",
      "occupant:morning\n",
      "occupant:night\n",
      "oid\n",
      "designation\n",
      "short_name\n",
      "facility:CCU\n",
      "facility:ICU\n",
      "facility:OT\n",
      "toilets\n",
      "building:age\n",
      "building:condition\n",
      "building:geological_site\n",
      "building:lateral:material\n",
      "building:lateral:system\n",
      "building:levels:underground\n",
      "capacity:persons\n",
      "fixme\n",
      "Household Code\n",
      "Household Info By\n",
      "HIV_Service\n",
      "wikidata\n",
      "addr:housename\n",
      "building:gable_wall\n",
      "floor:material:type\n",
      "roof:material:type\n",
      "service\n",
      "beds\n",
      "capacity:outpatients\n",
      "dispensing\n",
      "name:new\n",
      "shop\n",
      "aeroway\n",
      "alt_name\n",
      "contact:phone\n",
      "area\n",
      "ways\n",
      "int_name\n",
      "old_name\n",
      "type\n",
      "access\n"
     ]
    }
   ],
   "source": [
    "for col in columns:\n",
    "    print(col)"
   ]
  },
  {
   "cell_type": "code",
   "execution_count": 13,
   "id": "a5859bc0",
   "metadata": {},
   "outputs": [
    {
     "name": "stdout",
     "output_type": "stream",
     "text": [
      "{\"('node', 943246318)\":0,\"('node', 1497172311)\":0,\"('node', 1891343745)\":0,\"('node', 1898593305)\":0,\"('node', 1985458243)\":\"ciwecclinic@mail.com.np\",\"('node', 2027886569)\":0,\"('node', 2027895182)\":0,\"('node', 2066008367)\":0,\"('node', 2077258831)\":0,\"('node', 2121884151)\":0}\n",
      "\n",
      "\n",
      "{\"('node', 943246318)\":0,\"('node', 1497172311)\":0,\"('node', 1891343745)\":0,\"('node', 1898593305)\":\"014412075\",\"('node', 1985458243)\":\"977-1-4424111, 4435232\",\"('node', 2027886569)\":0,\"('node', 2027895182)\":0,\"('node', 2066008367)\":0,\"('node', 2077258831)\":0,\"('node', 2121884151)\":0}\n",
      "\n",
      "\n",
      "{\"('node', 943246318)\":\"Manmohan Memorial Hospital\",\"('node', 1497172311)\":\"Military Hospital\",\"('node', 1891343745)\":\"Dhanwantari Aryuved Hospital and Research Centre\",\"('node', 1898593305)\":\"Aarogya Aasharam\",\"('node', 1985458243)\":\"CIWEC Hospital\",\"('node', 2027886569)\":\"Chirayu National Hospital & Medical Institute\",\"('node', 2027895182)\":\"Infertility Center\",\"('node', 2066008367)\":\"Paropakar Ambulance\",\"('node', 2077258831)\":\"Subba Medical Centre Pvt ltd\",\"('node', 2121884151)\":\"Kunphen Tibetian Medicine\"}\n",
      "\n",
      "\n",
      "{\"('node', 943246318)\":\"http:\\/\\/www.mmchospital.org.np\",\"('node', 1497172311)\":0,\"('node', 1891343745)\":0,\"('node', 1898593305)\":0,\"('node', 1985458243)\":\"https:\\/\\/www.ciwec-clinic.com\\/\",\"('node', 2027886569)\":0,\"('node', 2027895182)\":0,\"('node', 2066008367)\":0,\"('node', 2077258831)\":0,\"('node', 2121884151)\":0}\n",
      "\n",
      "\n",
      "{\"('node', 943246318)\":0,\"('node', 1497172311)\":0,\"('node', 1891343745)\":0,\"('node', 1898593305)\":0,\"('node', 1985458243)\":\"Emergency and Ambulance services available along with a variety of other services. 24 hrs\\/day, 7 days\\/week.\",\"('node', 2027886569)\":0,\"('node', 2027895182)\":0,\"('node', 2066008367)\":0,\"('node', 2077258831)\":0,\"('node', 2121884151)\":0}\n",
      "\n",
      "\n",
      "{\"('node', 943246318)\":0,\"('node', 1497172311)\":0,\"('node', 1891343745)\":0,\"('node', 1898593305)\":0,\"('node', 1985458243)\":0,\"('node', 2027886569)\":0,\"('node', 2027895182)\":0,\"('node', 2066008367)\":0,\"('node', 2077258831)\":0,\"('node', 2121884151)\":0}\n",
      "\n",
      "\n",
      "{\"('node', 943246318)\":0,\"('node', 1497172311)\":0,\"('node', 1891343745)\":0,\"('node', 1898593305)\":0,\"('node', 1985458243)\":0,\"('node', 2027886569)\":0,\"('node', 2027895182)\":0,\"('node', 2066008367)\":0,\"('node', 2077258831)\":0,\"('node', 2121884151)\":0}\n",
      "\n",
      "\n",
      "{\"('node', 943246318)\":0,\"('node', 1497172311)\":0,\"('node', 1891343745)\":0,\"('node', 1898593305)\":0,\"('node', 1985458243)\":0,\"('node', 2027886569)\":0,\"('node', 2027895182)\":0,\"('node', 2066008367)\":0,\"('node', 2077258831)\":0,\"('node', 2121884151)\":0}\n",
      "\n",
      "\n",
      "{\"('node', 943246318)\":0,\"('node', 1497172311)\":0,\"('node', 1891343745)\":0,\"('node', 1898593305)\":0,\"('node', 1985458243)\":0,\"('node', 2027886569)\":0,\"('node', 2027895182)\":0,\"('node', 2066008367)\":0,\"('node', 2077258831)\":0,\"('node', 2121884151)\":0}\n",
      "\n",
      "\n",
      "{\"('node', 943246318)\":0,\"('node', 1497172311)\":\"yes\",\"('node', 1891343745)\":0,\"('node', 1898593305)\":0,\"('node', 1985458243)\":0,\"('node', 2027886569)\":\"yes\",\"('node', 2027895182)\":0,\"('node', 2066008367)\":\"ambulance_station\",\"('node', 2077258831)\":0,\"('node', 2121884151)\":\"no\"}\n"
     ]
    }
   ],
   "source": [
    "phone = gdf['phone'].to_json()\n",
    "# osm_id = gdf['osm']\n",
    "name = gdf['name'].to_json()\n",
    "website = gdf['website'].to_json()\n",
    "location = gdf['geometry'].to_json()\n",
    "email = gdf['contact:email'].to_json()\n",
    "emergency = gdf['emergency'].to_json()\n",
    "toilet_wheelchair = gdf['toilets:wheelchair'].to_json()\n",
    "wheel_chair = gdf['wheelchair'].to_json()\n",
    "addr_city = gdf['addr:city'].to_json()\n",
    "addr_street = gdf['addr:street'].to_json()\n",
    "desc = gdf['description'].to_json()\n",
    "cap_bed = gdf['capacity:beds'].to_json()\n",
    "icu = gdf['facility:ICU'].to_json()\n",
    "operation_theatre = gdf['facility:operating_theatre'].to_json()\n",
    "vendilator = gdf['facility:ventilator'].to_json()\n",
    "x_ray = gdf['facility:x-ray'].to_json()\n",
    "toilets = gdf['toilets'].to_json()\n",
    "opening_hour = gdf['opening_hours'].to_json()\n",
    "person_capacity = gdf['capacity:persons'].to_json()\n",
    "\n",
    "print(email)\n",
    "print(\"\\n\")\n",
    "print(phone)\n",
    "print('\\n')\n",
    "print(name)\n",
    "print('\\n')\n",
    "print(website)\n",
    "print('\\n')\n",
    "print(desc)\n",
    "print('\\n')\n",
    "print(icu)\n",
    "print('\\n')\n",
    "print(operation_theatre)\n",
    "print('\\n')\n",
    "print(toilets)\n",
    "print('\\n')\n",
    "print(opening_hour)\n",
    "print('\\n')\n",
    "print(emergency)"
   ]
  },
  {
   "cell_type": "code",
   "execution_count": null,
   "id": "0aadfc2a",
   "metadata": {},
   "outputs": [],
   "source": []
  }
 ],
 "metadata": {
  "kernelspec": {
   "display_name": "Python 3 (ipykernel)",
   "language": "python",
   "name": "python3"
  },
  "language_info": {
   "codemirror_mode": {
    "name": "ipython",
    "version": 3
   },
   "file_extension": ".py",
   "mimetype": "text/x-python",
   "name": "python",
   "nbconvert_exporter": "python",
   "pygments_lexer": "ipython3",
   "version": "3.9.12"
  }
 },
 "nbformat": 4,
 "nbformat_minor": 5
}
